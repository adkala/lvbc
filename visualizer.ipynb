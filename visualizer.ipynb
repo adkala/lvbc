{
 "cells": [
  {
   "cell_type": "markdown",
   "id": "486b0b60-8305-4379-b3f6-773e53b787d9",
   "metadata": {},
   "source": [
    "# Visualized data"
   ]
  },
  {
   "cell_type": "code",
   "execution_count": 816,
   "id": "28225cf9-7a89-4b3a-8f4d-4fc4bbb56231",
   "metadata": {},
   "outputs": [
    {
     "name": "stdout",
     "output_type": "stream",
     "text": [
      "The autoreload extension is already loaded. To reload it, use:\n",
      "  %reload_ext autoreload\n",
      "using cpu\n"
     ]
    }
   ],
   "source": [
    "%load_ext autoreload\n",
    "%autoreload 2\n",
    "\n",
    "import utils\n",
    "import run\n",
    "import evaluate\n",
    "\n",
    "import numpy as np\n",
    "import torch\n",
    "import matplotlib.pyplot as plt\n",
    "\n",
    "config = run.make_config('configs/horizonlstm_position.yaml')"
   ]
  },
  {
   "cell_type": "code",
   "execution_count": 817,
   "id": "897b1f73-8b64-46a1-94aa-5bcef1effed5",
   "metadata": {},
   "outputs": [],
   "source": [
    "torch_dict = torch.load('models/horizonlstm_position_lr0.001-l4-h200-mse_29-11-2023_21-02-50_e3600.p', map_location=torch.device('cpu'))"
   ]
  },
  {
   "cell_type": "code",
   "execution_count": 818,
   "id": "ec434c5b-d2bd-4a5f-8f79-f123485b5954",
   "metadata": {},
   "outputs": [
    {
     "data": {
      "text/plain": [
       "<All keys matched successfully>"
      ]
     },
     "execution_count": 818,
     "metadata": {},
     "output_type": "execute_result"
    }
   ],
   "source": [
    "config['model'].load_state_dict(torch_dict['model_state_dict'])"
   ]
  },
  {
   "cell_type": "code",
   "execution_count": 819,
   "id": "72a929a3-b419-463d-b191-459d4f27235d",
   "metadata": {},
   "outputs": [],
   "source": [
    "def plot_trajectories(y_pred, y, x=None, delta_p=True, ax=None,):\n",
    "    if delta_p:\n",
    "        y_pred = np.vstack([[0, 0, 0], np.cumsum(y_pred, axis=0)])\n",
    "        y = np.vstack([[0, 0, 0], np.cumsum(y, axis=0)])\n",
    "    if ax is None:\n",
    "        fig, ax = plt.subplots()\n",
    "\n",
    "    ax.plot(y_pred[:, 0], y_pred[:, 1], \"--\", label=\"pred\")\n",
    "    ax.plot(y[:, 0], y[:, 1], \"--\", label=\"gt\")\n",
    "    if x is not None:\n",
    "        ax.plot(x[:, 0], x[:, 1], \"-o\", label=\"x\")\n",
    "    \n",
    "    ax.set_aspect('equal', adjustable='datalim')\n",
    "    \n",
    "    ax.legend()\n",
    "\n",
    "def plot_compensated_error_vectors(y_pred, y, points=10, ax=None):\n",
    "    if points is None:\n",
    "        points = y_pred.shape[0]\n",
    "    ce = utils.compensate_error(y_pred, y)\n",
    "    y_pred = np.vstack([[0, 0, 0], np.cumsum(y_pred, axis=0)])\n",
    "    y = np.vstack([[0, 0, 0], np.cumsum(y, axis=0)])\n",
    "    if ax is None:\n",
    "        fig, ax = plt.subplots()\n",
    "    ax.plot(y_pred[:points, 0], y_pred[:points, 1], '-o', label='y_pred')  # last point has no comparison since it is from the last predicted output, so no other gt-point to go to\n",
    "    ax.plot(y[:points + 1, 0], y[:points + 1, 1], '-o', label='y')\n",
    "    for i in range(points):\n",
    "        ep = y_pred[i] + ce[i]\n",
    "        plt.plot([y_pred[i, 0], ep[0]], [y_pred[i, 1], ep[1]])\n",
    "    ax.legend()\n",
    "\n",
    "def get_car_frame_error(y_pred, y, r):\n",
    "    rr = np.array([[np.cos(r), -np.sin(r)], [np.sin(r), np.cos(r)]]).transpose(2, 0, 1)\n",
    "    sr = (y - y_pred)[:, :2]\n",
    "    return np.einsum('BNi, Bi->BN', rr, sr)"
   ]
  },
  {
   "cell_type": "code",
   "execution_count": 828,
   "id": "23bb0715-3f77-4187-87ca-0fc4eaf41983",
   "metadata": {},
   "outputs": [
    {
     "name": "stdout",
     "output_type": "stream",
     "text": [
      "7 8509\n",
      "world frame error (max, mean): [9.8540462  0.78722579 0.01944693] [0.76780313 0.06854697 0.00436269]\n",
      "car frame error (max, mean): [2.57667935 9.55908345] [0.40198942 0.60353688]\n"
     ]
    },
    {
     "data": {
      "image/png": "[encoded data removed]",
      "text/plain": [
       "<Figure size 432x288 with 1 Axes>"
      ]
     },
     "metadata": {
      "needs_background": "light"
     },
     "output_type": "display_data"
    }
   ],
   "source": [
    "i = np.random.randint(len(config['train_datasets']))\n",
    "j = np.random.randint(len(config['train_datasets'][i]))\n",
    "\n",
    "x, y = config['train_datasets'][i][j]\n",
    "\n",
    "y *= config['train_datasets'][i].p_r\n",
    "y_pred = config['model'].generate(torch.tensor(x[:config['window']]).float(), torch.tensor(x[config['window']:, 3:]).float())\n",
    "y_pred = y_pred.detach().numpy() * config['train_datasets'][i].p_r\n",
    "\n",
    "x = x[:, :3] * config['train_datasets'][i].p_r\n",
    "y = y[-config['horizon']:]\n",
    "\n",
    "print(i, j)\n",
    "plot_trajectories(y_pred, y, x=x[:config['window']], delta_p=config['delta_p'])\n",
    "#plot_trajectories(y , y, delta_p=config['delta_p'])\n",
    "\n",
    "print('world frame error (max, mean):', np.max(np.abs(y_pred - y), axis=0), np.mean(np.abs(y_pred - y), axis=0))\n",
    "cfe = get_car_frame_error(y_pred, y, x[-config['horizon']:, -1])\n",
    "print('car frame error (max, mean):', np.max(np.abs(cfe), axis=0), np.mean(np.abs(cfe), axis=0))"
   ]
  },
  {
   "cell_type": "code",
   "execution_count": null,
   "id": "c6f3d589-e31b-4511-8bbe-ad5c4c481985",
   "metadata": {},
   "outputs": [],
   "source": [
    "def get_avg_cfe_error(datasets):\n",
    "    LMAO"
   ]
  },
  {
   "cell_type": "code",
   "execution_count": null,
   "id": "094a4bc9-deba-4b3b-9d07-864be6a4128a",
   "metadata": {},
   "outputs": [],
   "source": []
  }
 ],
 "metadata": {
  "kernelspec": {
   "display_name": "Python [conda env:cs285] *",
   "language": "python",
   "name": "conda-env-cs285-py"
  },
  "language_info": {
   "codemirror_mode": {
    "name": "ipython",
    "version": 3
   },
   "file_extension": ".py",
   "mimetype": "text/x-python",
   "name": "python",
   "nbconvert_exporter": "python",
   "pygments_lexer": "ipython3",
   "version": "3.9.17"
  }
 },
 "nbformat": 4,
 "nbformat_minor": 5
}
