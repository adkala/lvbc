{
 "cells": [
  {
   "cell_type": "markdown",
   "id": "486b0b60-8305-4379-b3f6-773e53b787d9",
   "metadata": {},
   "source": [
    "# Visualized data"
   ]
  },
  {
   "cell_type": "code",
   "execution_count": 141,
   "id": "28225cf9-7a89-4b3a-8f4d-4fc4bbb56231",
   "metadata": {},
   "outputs": [
    {
     "name": "stdout",
     "output_type": "stream",
     "text": [
      "The autoreload extension is already loaded. To reload it, use:\n",
      "  %reload_ext autoreload\n",
      "using cpu\n"
     ]
    }
   ],
   "source": [
    "%load_ext autoreload\n",
    "%autoreload 2\n",
    "\n",
    "import utils\n",
    "import run\n",
    "import evaluate\n",
    "\n",
    "import numpy as np\n",
    "import torch\n",
    "import matplotlib.pyplot as plt\n",
    "\n",
    "config = run.make_config('configs/horizonlstm_position.yaml')"
   ]
  },
  {
   "cell_type": "code",
   "execution_count": 142,
   "id": "897b1f73-8b64-46a1-94aa-5bcef1effed5",
   "metadata": {},
   "outputs": [],
   "source": [
    "torch_dict = torch.load('models/horizonlstm_position_lr0.001-l4-h200-mse_29-11-2023_21-02-50_e3600.p', map_location=torch.device('cpu'))"
   ]
  },
  {
   "cell_type": "code",
   "execution_count": 143,
   "id": "ec434c5b-d2bd-4a5f-8f79-f123485b5954",
   "metadata": {},
   "outputs": [
    {
     "data": {
      "text/plain": [
       "<All keys matched successfully>"
      ]
     },
     "execution_count": 143,
     "metadata": {},
     "output_type": "execute_result"
    }
   ],
   "source": [
    "config['model'].load_state_dict(torch_dict['model_state_dict'])"
   ]
  },
  {
   "cell_type": "code",
   "execution_count": 144,
   "id": "72a929a3-b419-463d-b191-459d4f27235d",
   "metadata": {},
   "outputs": [],
   "source": [
    "def plot_trajectories(y_pred, y, x=None, delta_p=True, ax=None,):\n",
    "    if delta_p:\n",
    "        y_pred = np.vstack([[0, 0, 0], np.cumsum(y_pred, axis=0)])\n",
    "        y = np.vstack([[0, 0, 0], np.cumsum(y, axis=0)])\n",
    "    if ax is None:\n",
    "        fig, ax = plt.subplots()\n",
    "\n",
    "    ax.plot(y_pred[:, 0], y_pred[:, 1], \"--\", label=\"pred\")\n",
    "    ax.plot(y[:, 0], y[:, 1], \"--\", label=\"gt\")\n",
    "    if x is not None:\n",
    "        ax.plot(x[:, 0], x[:, 1], \"-o\", label=\"x\")\n",
    "    \n",
    "    ax.set_aspect('equal', adjustable='datalim')\n",
    "    \n",
    "    ax.legend()\n",
    "\n",
    "def plot_compensated_error_vectors(y_pred, y, points=10, ax=None):\n",
    "    if points is None:\n",
    "        points = y_pred.shape[0]\n",
    "    ce = utils.compensate_error(y_pred, y)\n",
    "    y_pred = np.vstack([[0, 0, 0], np.cumsum(y_pred, axis=0)])\n",
    "    y = np.vstack([[0, 0, 0], np.cumsum(y, axis=0)])\n",
    "    if ax is None:\n",
    "        fig, ax = plt.subplots()\n",
    "    ax.plot(y_pred[:points, 0], y_pred[:points, 1], '-o', label='y_pred')  # last point has no comparison since it is from the last predicted output, so no other gt-point to go to\n",
    "    ax.plot(y[:points + 1, 0], y[:points + 1, 1], '-o', label='y')\n",
    "    for i in range(points):\n",
    "        ep = y_pred[i] + ce[i]\n",
    "        plt.plot([y_pred[i, 0], ep[0]], [y_pred[i, 1], ep[1]])\n",
    "    ax.legend()\n",
    "\n",
    "def get_car_frame_error(y_pred, y, r):\n",
    "    rr = np.array([[np.cos(r), -np.sin(r)], [np.sin(r), np.cos(r)]]).transpose(2, 0, 1)\n",
    "    sr = (y - y_pred)[:, :2]\n",
    "    return np.einsum('BNi, Bi->BN', rr, sr)"
   ]
  },
  {
   "cell_type": "code",
   "execution_count": 148,
   "id": "23bb0715-3f77-4187-87ca-0fc4eaf41983",
   "metadata": {},
   "outputs": [
    {
     "name": "stdout",
     "output_type": "stream",
     "text": [
      "18 5094\n",
      "world frame error (max, mean): [1.84699027 2.90019356 0.01958143] [0.62638281 1.24919265 0.00731743]\n",
      "car frame error (max, mean): [2.08560617 3.01802713] [0.93625618 1.03047129]\n"
     ]
    },
    {
     "data": {
      "image/png": "[encoded data removed]",
      "text/plain": [
       "<Figure size 432x288 with 1 Axes>"
      ]
     },
     "metadata": {
      "needs_background": "light"
     },
     "output_type": "display_data"
    }
   ],
   "source": [
    "i = np.random.randint(len(config['train_datasets']))\n",
    "j = np.random.randint(len(config['train_datasets'][i]))\n",
    "\n",
    "x, y = config['train_datasets'][i][j]\n",
    "\n",
    "y *= config['train_datasets'][i].p_r\n",
    "y_pred = config['model'](torch.tensor(x).float()).detach().numpy() * config['train_datasets'][i].p_r\n",
    "\n",
    "x = x[:, :3] * config['train_datasets'][i].p_r\n",
    "\n",
    "print(i, j)\n",
    "plot_trajectories(y_pred, y, x=x[:config['window']], delta_p=config['delta_p'])\n",
    "#plot_trajectories(y , y, delta_p=config['delta_p'])\n",
    "\n",
    "#ce = utils.compensate_error(y_pred, y)\n",
    "#print(np.max(np.abs(ce), axis=0), np.mean(np.abs(ce), axis=0))\n",
    "print('world frame error (max, mean):', np.max(np.abs(y_pred - y), axis=0), np.mean(np.abs(y_pred - y), axis=0))\n",
    "cfe = get_car_frame_error(y_pred, y, x[:, -1])\n",
    "print('car frame error (max, mean):', np.max(np.abs(cfe), axis=0), np.mean(np.abs(cfe), axis=0))"
   ]
  },
  {
   "cell_type": "markdown",
   "id": "2c5926c7-76ca-4ae6-a1d2-bd7fb2798e55",
   "metadata": {
    "jp-MarkdownHeadingCollapsed": true
   },
   "source": [
    "### "
   ]
  }
 ],
 "metadata": {
  "kernelspec": {
   "display_name": "Python [conda env:cs285] *",
   "language": "python",
   "name": "conda-env-cs285-py"
  },
  "language_info": {
   "codemirror_mode": {
    "name": "ipython",
    "version": 3
   },
   "file_extension": ".py",
   "mimetype": "text/x-python",
   "name": "python",
   "nbconvert_exporter": "python",
   "pygments_lexer": "ipython3",
   "version": "3.9.17"
  }
 },
 "nbformat": 4,
 "nbformat_minor": 5
}
