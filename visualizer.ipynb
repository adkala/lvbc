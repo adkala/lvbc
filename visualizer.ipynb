{
 "cells": [
  {
   "cell_type": "markdown",
   "id": "486b0b60-8305-4379-b3f6-773e53b787d9",
   "metadata": {},
   "source": [
    "# Testing corrected y_pred"
   ]
  },
  {
   "cell_type": "code",
   "execution_count": 330,
   "id": "28225cf9-7a89-4b3a-8f4d-4fc4bbb56231",
   "metadata": {},
   "outputs": [
    {
     "name": "stdout",
     "output_type": "stream",
     "text": [
      "The autoreload extension is already loaded. To reload it, use:\n",
      "  %reload_ext autoreload\n",
      "using cpu\n"
     ]
    },
    {
     "data": {
      "text/plain": [
       "<All keys matched successfully>"
      ]
     },
     "execution_count": 330,
     "metadata": {},
     "output_type": "execute_result"
    }
   ],
   "source": [
    "%load_ext autoreload\n",
    "%autoreload 2\n",
    "\n",
    "import utils\n",
    "import run\n",
    "\n",
    "import numpy as np\n",
    "import torch\n",
    "import matplotlib.pyplot as plt\n",
    "\n",
    "# test config\n",
    "config = run.make_config('configs/horizonlstm_default.yaml') # window 100, horizon 10\n",
    "config['model'].load_state_dict(torch.load('models/horizonlstm_default_16-11-2023_16-51-51/horizonlstm_default_16-11-2023_16-51-51_e600.p')['model_state_dict'])"
   ]
  },
  {
   "cell_type": "code",
   "execution_count": 379,
   "id": "2d917ce9-2dc1-46db-9fc3-4576b5e21631",
   "metadata": {},
   "outputs": [
    {
     "data": {
      "image/png": "[encoded data removed]",
      "text/plain": [
       "<Figure size 432x288 with 1 Axes>"
      ]
     },
     "metadata": {
      "needs_background": "light"
     },
     "output_type": "display_data"
    }
   ],
   "source": [
    "def visualize_differences(config, i=None, j=None, ax=None):\n",
    "    model = config['model']\n",
    "    if i is None:\n",
    "        i = np.random.randint(len(config['train_datasets']))\n",
    "    if j is None:\n",
    "        j = np.random.randint(len(config['train_datasets'][i]))\n",
    "    x, y, m = config['train_datasets'][i][j]\n",
    "    m = m.bool().unsqueeze(-1).expand(-1, y.shape[-1]).detach().numpy()\n",
    "    \n",
    "    y_pred, _ = model(x)\n",
    "    y_pred = y_pred[:, -2:].detach().numpy()\n",
    "    y_pred *= m\n",
    "    y *= m\n",
    "    y = y.detach().numpy()\n",
    "    \n",
    "    y, y_pred, m = y[-config['horizon']:], y_pred[-config['horizon']:], m[-config['horizon']:]\n",
    "    \n",
    "    y_traj = y.cumsum(axis=0)\n",
    "    y_pred_traj = y_pred.cumsum(axis=0)\n",
    "\n",
    "    y_corrected = utils.get_corrected_y_for_delta_p(y, y_pred, m)\n",
    "\n",
    "    y_traj_x = [0, *y_traj[:, 0]]\n",
    "    y_traj_y = [0, *y_traj[:, 1]]\n",
    "\n",
    "    y_pred_traj_x = [0, *y_pred_traj[:, 0]]\n",
    "    y_pred_traj_y = [0, *y_pred_traj[:, 1]]\n",
    "\n",
    "    if ax is None:\n",
    "        fig, ax = plt.subplots()\n",
    "    ax.plot(y_traj_x, y_traj_y, \"-o\", label='true')\n",
    "    ax.plot(y_pred_traj_x, y_pred_traj_y, \"-o\", label='predicted')\n",
    "    #for k in range(y_corrected.shape[0]):\n",
    "    #    ax.plot([y_pred_traj_x[k], y_pred_traj_x[k] + y_corrected[k, 0]], [y_pred_traj_y[k], y_pred_traj_y[k] + y_corrected[k, 1]])\n",
    "    ax.legend()\n",
    "    ax.set_title(f'i = {i}, j={j}')\n",
    "    return y, y_pred, y_traj, y_pred_traj, y_pred_corrected\n",
    "\n",
    "y, y_pred, y_traj, y_pred_traj, y_corrected = visualize_differences(config)#, 0, 17030) #, 0, 5707)\n",
    "#y, y_pred, y_traj, y_pred_traj, y_pred_corrected"
   ]
  },
  {
   "cell_type": "code",
   "execution_count": null,
   "id": "24b9a1ef-840d-4a0b-bcfa-2f0cf5787c9e",
   "metadata": {},
   "outputs": [],
   "source": []
  }
 ],
 "metadata": {
  "kernelspec": {
   "display_name": "Python [conda env:cs285] *",
   "language": "python",
   "name": "conda-env-cs285-py"
  },
  "language_info": {
   "codemirror_mode": {
    "name": "ipython",
    "version": 3
   },
   "file_extension": ".py",
   "mimetype": "text/x-python",
   "name": "python",
   "nbconvert_exporter": "python",
   "pygments_lexer": "ipython3",
   "version": "3.9.17"
  }
 },
 "nbformat": 4,
 "nbformat_minor": 5
}
