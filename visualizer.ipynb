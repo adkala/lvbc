{
 "cells": [
  {
   "cell_type": "markdown",
   "id": "486b0b60-8305-4379-b3f6-773e53b787d9",
   "metadata": {},
   "source": [
    "# Visualized data"
   ]
  },
  {
   "cell_type": "code",
   "execution_count": 8,
   "id": "28225cf9-7a89-4b3a-8f4d-4fc4bbb56231",
   "metadata": {},
   "outputs": [
    {
     "name": "stdout",
     "output_type": "stream",
     "text": [
      "The autoreload extension is already loaded. To reload it, use:\n",
      "  %reload_ext autoreload\n",
      "using cpu\n"
     ]
    }
   ],
   "source": [
    "%load_ext autoreload\n",
    "%autoreload 2\n",
    "\n",
    "import utils\n",
    "import run\n",
    "import evaluate\n",
    "\n",
    "import numpy as np\n",
    "import torch\n",
    "import matplotlib.pyplot as plt\n",
    "\n",
    "config = run.make_config('configs/horizonlstm_position.yaml')"
   ]
  },
  {
   "cell_type": "code",
   "execution_count": 9,
   "id": "897b1f73-8b64-46a1-94aa-5bcef1effed5",
   "metadata": {},
   "outputs": [],
   "source": [
    "#torch_dict = torch.load('models/horizonlstm_position_gaussian_lr0.001-l4-h200-gaussian_04-12-2023_17-56-53_e200.p', map_location=torch.device('cpu'))\n",
    "#torch_dict = torch.load('models/horizonlstm_position_gaussian_lr0.001-l4-h200-gaussian_05-12-2023_14-30-02_e440.p', map_location=torch.device('cpu'))\n",
    "torch_dict = torch.load('models/horizonlstm_position_lr0.001-l4-h200-mse_29-11-2023_21-02-50_e3600.p', map_location=torch.device('cpu'))\n",
    "#torch_dict = torch.load('models/horizonlstm_position_ws_lr1e-05-l4-h200-mse_18-12-2023_21-04-30_e2400.p', map_location=torch.device('cpu'))"
   ]
  },
  {
   "cell_type": "code",
   "execution_count": 10,
   "id": "ec434c5b-d2bd-4a5f-8f79-f123485b5954",
   "metadata": {},
   "outputs": [
    {
     "data": {
      "text/plain": [
       "<All keys matched successfully>"
      ]
     },
     "execution_count": 10,
     "metadata": {},
     "output_type": "execute_result"
    }
   ],
   "source": [
    "import models\n",
    "#config['model'] = models.HorizonLSTMWithVariance()\n",
    "config['model'].load_state_dict(torch_dict['model_state_dict'], strict=False)"
   ]
  },
  {
   "cell_type": "code",
   "execution_count": 11,
   "id": "72a929a3-b419-463d-b191-459d4f27235d",
   "metadata": {},
   "outputs": [],
   "source": [
    "def plot_trajectories(y_pred, y, x=None, delta_p=True, ax=None,):\n",
    "    if delta_p:\n",
    "        y_pred = np.vstack([[0, 0, 0], np.cumsum(y_pred, axis=0)])\n",
    "        y = np.vstack([[0, 0, 0], np.cumsum(y, axis=0)])\n",
    "    if ax is None:\n",
    "        fig, ax = plt.subplots()\n",
    "\n",
    "    ax.plot(y_pred[:, 0], y_pred[:, 1], \"--\", label=\"pred\")\n",
    "    ax.plot(y[:, 0], y[:, 1], \"--\", label=\"gt\")\n",
    "    if x is not None:\n",
    "        ax.plot(x[:, 0], x[:, 1], \"-o\", label=\"x\")\n",
    "    \n",
    "    ax.set_aspect('equal', adjustable='datalim')\n",
    "    \n",
    "    ax.legend()\n",
    "\n",
    "def plot_compensated_error_vectors(y_pred, y, points=10, ax=None):\n",
    "    if points is None:\n",
    "        points = y_pred.shape[0]\n",
    "    ce = utils.compensate_error(y_pred, y)\n",
    "    y_pred = np.vstack([[0, 0, 0], np.cumsum(y_pred, axis=0)])\n",
    "    y = np.vstack([[0, 0, 0], np.cumsum(y, axis=0)])\n",
    "    if ax is None:\n",
    "        fig, ax = plt.subplots()\n",
    "    ax.plot(y_pred[:points, 0], y_pred[:points, 1], '-o', label='y_pred')  # last point has no comparison since it is from the last predicted output, so no other gt-point to go to\n",
    "    ax.plot(y[:points + 1, 0], y[:points + 1, 1], '-o', label='y')\n",
    "    for i in range(points):\n",
    "        ep = y_pred[i] + ce[i]\n",
    "        plt.plot([y_pred[i, 0], ep[0]], [y_pred[i, 1], ep[1]])\n",
    "    ax.legend()\n",
    "\n",
    "def get_car_frame_error(y_pred, y, r):\n",
    "    rr = np.array([[np.cos(r), -np.sin(r)], [np.sin(r), np.cos(r)]]).transpose(2, 0, 1)\n",
    "    sr = (y - y_pred)[:, :2]\n",
    "    return np.einsum('BNi, Bi->BN', rr, sr)"
   ]
  },
  {
   "cell_type": "code",
   "execution_count": 13,
   "id": "23bb0715-3f77-4187-87ca-0fc4eaf41983",
   "metadata": {},
   "outputs": [
    {
     "name": "stdout",
     "output_type": "stream",
     "text": [
      "time to complete 0.028975\n",
      "18 4194\n",
      "world frame error (max, mean): [667.71103199 165.73162792   1.90478151] [417.526307    45.14169777   0.7240464 ]\n",
      "car frame error (max, mean): [154.59080254 667.08137058] [ 44.52324421 418.35326557]\n"
     ]
    },
    {
     "data": {
      "image/png": "[encoded data removed]",
      "text/plain": [
       "<Figure size 432x288 with 1 Axes>"
      ]
     },
     "metadata": {
      "needs_background": "light"
     },
     "output_type": "display_data"
    }
   ],
   "source": [
    "i = np.random.randint(len(config['train_datasets']))\n",
    "j = np.random.randint(len(config['train_datasets'][i]))\n",
    "\n",
    "x, y = config['train_datasets'][i][j]\n",
    "\n",
    "y *= config['train_datasets'][i].p_r\n",
    "\n",
    "###\n",
    "import time\n",
    "\n",
    "a = time.time()\n",
    "y_pred = config['model'].generate(torch.tensor(x[:config['window']]).float(), torch.tensor(x[config['window']:, 3:]).float())\n",
    "#y_pred = config['model'].generate(torch.tensor(x[:20]).float(), torch.tensor(x[20:30, 3:]).float())\n",
    "y_pred = y_pred.detach().numpy() * config['train_datasets'][i].p_r\n",
    "b = time.time()\n",
    "print('time to complete %f' % (b - a))\n",
    "\n",
    "###\n",
    "\n",
    "x = x[:, :3] * config['train_datasets'][i].p_r\n",
    "y = y[-config['horizon']:]\n",
    "\n",
    "print(i, j)\n",
    "plot_trajectories(y_pred, y, x=x[:config['window']], delta_p=config['delta_p'])\n",
    "#plot_trajectories(y , y, delta_p=config['delta_p'])\n",
    "\n",
    "print('world frame error (max, mean):', np.max(np.abs(y_pred - y), axis=0), np.mean(np.abs(y_pred - y), axis=0))\n",
    "cfe = get_car_frame_error(y_pred, y, x[-config['horizon']:, -1])\n",
    "print('car frame error (max, mean):', np.max(np.abs(cfe), axis=0), np.mean(np.abs(cfe), axis=0))"
   ]
  },
  {
   "cell_type": "code",
   "execution_count": 29,
   "id": "afac59e0-adf4-4907-a1cb-80da4bb566d3",
   "metadata": {},
   "outputs": [
    {
     "name": "stdout",
     "output_type": "stream",
     "text": [
      "[[-20.35518084  -1.33791801  -0.26797347]\n",
      " [-20.31478911  -1.36650684  -0.20349574]\n",
      " [-20.34823577  -1.31586758  -0.26609302]\n",
      " [-20.34823577  -1.31586758  -0.26609302]\n",
      " [-20.39457043  -1.34430656  -0.30463285]\n",
      " [-20.3162599   -1.34648615  -0.17847635]\n",
      " [-20.32556103  -1.30866465  -0.29947205]\n",
      " [-20.33153495  -1.34094717  -0.20791681]\n",
      " [-20.36177381  -1.2707567   -0.38106727]\n",
      " [-20.41776594  -1.43122879  -0.33144015]\n",
      " [-20.41776594  -1.43122879  -0.33144015]\n",
      " [-20.32064831  -1.35189811  -0.27507103]\n",
      " [-20.33107524  -1.33691612  -0.35258609]\n",
      " [-20.33107524  -1.33691612  -0.35258609]\n",
      " [-20.37152169  -1.37957866  -0.44264716]\n",
      " [-20.38097305  -1.34512027  -0.24986393]\n",
      " [-20.37509601  -1.41274141  -0.3374792 ]\n",
      " [-20.34555503  -1.34074602  -0.32994223]\n",
      " [-20.3418945   -1.4290735   -0.42588978]\n",
      " [-20.34413316  -1.4295012   -0.31418442]]\n",
      "[[-20.34362089  -1.33053514  -0.28937145]\n",
      " [-20.35507057  -1.33796141  -0.26791256]\n",
      " [-20.31467884  -1.36655005  -0.20343514]\n",
      " [-20.31467884  -1.36655005  -0.20343514]\n",
      " [-20.31397421  -1.35920484  -0.32485167]\n",
      " [-20.39446012  -1.34435003  -0.30457172]\n",
      " [-20.31614955  -1.34652949  -0.17841554]\n",
      " [-20.32545113  -1.30870814  -0.29941102]\n",
      " [-20.33142463  -1.34099055  -0.20785615]\n",
      " [-20.36166405  -1.2708005   -0.38100589]\n",
      " [-20.36166405  -1.2708005   -0.38100589]\n",
      " [-20.33156201  -1.32321005  -0.30707898]\n",
      " [-20.32053824  -1.35194137  -0.27501035]\n",
      " [-20.32053824  -1.35194137  -0.27501035]\n",
      " [-20.32710392  -1.32265026  -0.36798498]\n",
      " [-20.371409    -1.37968901  -0.44250511]\n",
      " [-20.38085919  -1.3452309   -0.24972121]\n",
      " [-20.37498235  -1.41285163  -0.33733717]\n",
      " [-20.34544195  -1.34085647  -0.32979952]\n",
      " [-20.34178157  -1.42918344  -0.42574811]\n",
      " [-20.34401943  -1.42961115  -0.31404221]]\n"
     ]
    }
   ],
   "source": [
    "x, _ = config['train_datasets'][i][j]\n",
    "x = x[:21]\n",
    "dx = x[1:] - x[:-1]\n",
    "\n",
    "# dx\n",
    "print(dx[:, :3] * config['train_datasets'][i].p_r * 20)\n",
    "\n",
    "# v\n",
    "print(x[:, 3:6])"
   ]
  },
  {
   "cell_type": "code",
   "execution_count": 16,
   "id": "ea279b42-a245-425e-b247-5bb7799ce8c1",
   "metadata": {},
   "outputs": [
    {
     "data": {
      "text/plain": [
       "array([ 0.03677948,  0.00176562, -0.00011601])"
      ]
     },
     "execution_count": 16,
     "metadata": {},
     "output_type": "execute_result"
    }
   ],
   "source": [
    "config['train_datasets'][i].v_mean"
   ]
  },
  {
   "cell_type": "code",
   "execution_count": 2,
   "id": "c6f3d589-e31b-4511-8bbe-ad5c4c481985",
   "metadata": {},
   "outputs": [
    {
     "ename": "NameError",
     "evalue": "name 'np' is not defined",
     "output_type": "error",
     "traceback": [
      "\u001b[0;31m---------------------------------------------------------------------------\u001b[0m",
      "\u001b[0;31mNameError\u001b[0m                                 Traceback (most recent call last)",
      "Cell \u001b[0;32mIn[2], line 1\u001b[0m\n\u001b[0;32m----> 1\u001b[0m i \u001b[38;5;241m=\u001b[39m \u001b[43mnp\u001b[49m\u001b[38;5;241m.\u001b[39mrandom\u001b[38;5;241m.\u001b[39mrandint(\u001b[38;5;28mlen\u001b[39m(config[\u001b[38;5;124m'\u001b[39m\u001b[38;5;124mtrain_datasets\u001b[39m\u001b[38;5;124m'\u001b[39m]))\n\u001b[1;32m      2\u001b[0m \u001b[38;5;66;03m#i = 1\u001b[39;00m\n\u001b[1;32m      3\u001b[0m j \u001b[38;5;241m=\u001b[39m np\u001b[38;5;241m.\u001b[39mrandom\u001b[38;5;241m.\u001b[39mrandint(\u001b[38;5;28mlen\u001b[39m(config[\u001b[38;5;124m'\u001b[39m\u001b[38;5;124mtrain_datasets\u001b[39m\u001b[38;5;124m'\u001b[39m][i]))\n",
      "\u001b[0;31mNameError\u001b[0m: name 'np' is not defined"
     ]
    }
   ],
   "source": [
    "i = np.random.randint(len(config['train_datasets']))\n",
    "#i = 1\n",
    "j = np.random.randint(len(config['train_datasets'][i]))\n",
    "#j = 4935\n",
    "\n",
    "print(config['train_datasets'][i].name)\n",
    "\n",
    "x, y = config['train_datasets'][i][j]\n",
    "\n",
    "y *= config['train_datasets'][i].p_r\n",
    "y_pred = config['model'](torch.tensor(x).float())\n",
    "\n",
    "var = y_pred.detach().numpy()[:, 3:]# * config['train_datasets'][i].p_r\n",
    "y_pred = y_pred.detach().numpy()[:, :3] * config['train_datasets'][i].p_r\n",
    "\n",
    "x = x[:, :3] * config['train_datasets'][i].p_r\n",
    "y = y[-config['horizon']:]\n",
    "\n",
    "print(i, j)\n",
    "plot_trajectories(y, y_pred, x=None, delta_p=config['delta_p'])\n",
    "#plot_trajectories(y , y, delta_p=config['delta_p'])\n",
    "\n",
    "print(var.mean(axis=0))\n",
    "\n",
    "#print('world frame error (max, mean):', np.max(np.abs(y_pred - y), axis=0), np.mean(np.abs(y_pred - y), axis=0))\n",
    "#cfe = get_car_frame_error(y_pred, y, x[-config['horizon']:, -1])\n",
    "#print('car frame error (max, mean):', np.max(np.abs(cfe), axis=0), np.mean(np.abs(cfe), axis=0))"
   ]
  },
  {
   "cell_type": "code",
   "execution_count": 200,
   "id": "094a4bc9-deba-4b3b-9d07-864be6a4128a",
   "metadata": {},
   "outputs": [
    {
     "name": "stdout",
     "output_type": "stream",
     "text": [
      "[1516.40807653  527.96234116   10.61343846]\n"
     ]
    }
   ],
   "source": [
    "print(config['train_datasets'][i].p_r)"
   ]
  },
  {
   "cell_type": "code",
   "execution_count": 38,
   "id": "77e4f95a-5a0b-410f-8452-a9cc4516b6ef",
   "metadata": {},
   "outputs": [
    {
     "data": {
      "text/plain": [
       "array([[807.88413413, 101.04035195,   2.64065395],\n",
       "       [807.88413413, 101.04035195,   2.64065395],\n",
       "       [807.88413413, 101.04035195,   2.64065395],\n",
       "       [807.88413413, 101.04035195,   2.64065395],\n",
       "       [807.88413413, 101.04035195,   2.64065395],\n",
       "       [807.88413413, 101.04035195,   2.64065395],\n",
       "       [807.88413413, 101.04035195,   2.64065395],\n",
       "       [807.88413413, 101.04035195,   2.64065395],\n",
       "       [807.88413413, 101.04035195,   2.64065395],\n",
       "       [807.88413413, 101.04035195,   2.64065395],\n",
       "       [807.88413413, 101.04035195,   2.64065395],\n",
       "       [807.88413413, 101.04035195,   2.64065395],\n",
       "       [807.88413413, 101.04035195,   2.64065395],\n",
       "       [807.88413413, 101.04035195,   2.64065395],\n",
       "       [807.88413413, 101.04035195,   2.64065395],\n",
       "       [807.88413413, 101.04035195,   2.64065395],\n",
       "       [807.88413413, 101.04035195,   2.64065395],\n",
       "       [807.88413413, 101.04035195,   2.64065395],\n",
       "       [807.88413413, 101.04035195,   2.64065395],\n",
       "       [807.88413413, 101.04035195,   2.64065395],\n",
       "       [807.88413413, 101.04035195,   2.64065395],\n",
       "       [807.88413413, 101.04035195,   2.64065395],\n",
       "       [807.88413413, 101.04035195,   2.64065395],\n",
       "       [807.88413413, 101.04035195,   2.64065395],\n",
       "       [807.88413413, 101.04035195,   2.64065395],\n",
       "       [807.88413413, 101.04035195,   2.64065395],\n",
       "       [807.88413413, 101.04035195,   2.64065395],\n",
       "       [807.88413413, 101.04035195,   2.64065395],\n",
       "       [807.88413413, 101.04035195,   2.64065395],\n",
       "       [807.88413413, 101.04035195,   2.64065395],\n",
       "       [807.88413413, 101.04035195,   2.64065395],\n",
       "       [807.88413413, 101.04035195,   2.64065395],\n",
       "       [807.88413413, 101.04035195,   2.64065395],\n",
       "       [807.88413413, 101.04035195,   2.64065395],\n",
       "       [807.88413413, 101.04035195,   2.64065395],\n",
       "       [807.88413413, 101.04035195,   2.64065395],\n",
       "       [807.88413413, 101.04035195,   2.64065395],\n",
       "       [807.88413413, 101.04035195,   2.64065395],\n",
       "       [807.88413413, 101.04035195,   2.64065395],\n",
       "       [807.88413413, 101.04035195,   2.64065395],\n",
       "       [807.88413413, 101.04035195,   2.64065395],\n",
       "       [807.88413413, 101.04035195,   2.64065395],\n",
       "       [807.88413413, 101.04035195,   2.64065395],\n",
       "       [807.88413413, 101.04035195,   2.64065395],\n",
       "       [807.88413413, 101.04035195,   2.64065395],\n",
       "       [807.88413413, 101.04035195,   2.64065395],\n",
       "       [807.88413413, 101.04035195,   2.64065395],\n",
       "       [807.88413413, 101.04035195,   2.64065395],\n",
       "       [807.88413413, 101.04035195,   2.64065395],\n",
       "       [807.88413413, 101.04035195,   2.64065395],\n",
       "       [807.88413413, 101.04035195,   2.64065395],\n",
       "       [807.88413413, 101.04035195,   2.64065395],\n",
       "       [807.88413413, 101.04035195,   2.64065395],\n",
       "       [807.88413413, 101.04035195,   2.64065395],\n",
       "       [807.88413413, 101.04035195,   2.64065395],\n",
       "       [807.88413413, 101.04035195,   2.64065395],\n",
       "       [807.88413413, 101.04035195,   2.64065395],\n",
       "       [807.88413413, 101.04035195,   2.64065395],\n",
       "       [807.88413413, 101.04035195,   2.64065395],\n",
       "       [807.88413413, 101.04035195,   2.64065395],\n",
       "       [807.88413413, 101.04035195,   2.64065395],\n",
       "       [807.88413413, 101.04035195,   2.64065395],\n",
       "       [807.88413413, 101.04035195,   2.64065395],\n",
       "       [807.88413413, 101.04035195,   2.64065395],\n",
       "       [807.88413413, 101.04035195,   2.64065395],\n",
       "       [807.88413413, 101.04035195,   2.64065395],\n",
       "       [807.88413413, 101.04035195,   2.64065395],\n",
       "       [807.88413413, 101.04035195,   2.64065395],\n",
       "       [807.88413413, 101.04035195,   2.64065395],\n",
       "       [807.88413413, 101.04035195,   2.64065395],\n",
       "       [807.88413413, 101.04035195,   2.64065395],\n",
       "       [807.88413413, 101.04035195,   2.64065395],\n",
       "       [807.88413413, 101.04035195,   2.64065395],\n",
       "       [807.88413413, 101.04035195,   2.64065395],\n",
       "       [807.88413413, 101.04035195,   2.64065395],\n",
       "       [807.88413413, 101.04035195,   2.64065395],\n",
       "       [807.88413413, 101.04035195,   2.64065395],\n",
       "       [807.88413413, 101.04035195,   2.64065395],\n",
       "       [807.88413413, 101.04035195,   2.64065395],\n",
       "       [807.88413413, 101.04035195,   2.64065395],\n",
       "       [807.88413413, 101.04035195,   2.64065395],\n",
       "       [807.88413413, 101.04035195,   2.64065395],\n",
       "       [807.88413413, 101.04035195,   2.64065395],\n",
       "       [807.88413413, 101.04035195,   2.64065395],\n",
       "       [807.88413413, 101.04035195,   2.64065395],\n",
       "       [807.88413413, 101.04035195,   2.64065395],\n",
       "       [807.88413413, 101.04035195,   2.64065395],\n",
       "       [807.88413413, 101.04035195,   2.64065395],\n",
       "       [807.88413413, 101.04035195,   2.64065395],\n",
       "       [807.88413413, 101.04035195,   2.64065395],\n",
       "       [807.88413413, 101.04035195,   2.64065395],\n",
       "       [807.88413413, 101.04035195,   2.64065395],\n",
       "       [807.88413413, 101.04035195,   2.64065395],\n",
       "       [807.88413413, 101.04035195,   2.64065395],\n",
       "       [807.88413413, 101.04035195,   2.64065395],\n",
       "       [807.88413413, 101.04035195,   2.64065395],\n",
       "       [807.88413413, 101.04035195,   2.64065395],\n",
       "       [807.88413413, 101.04035195,   2.64065395],\n",
       "       [807.88413413, 101.04035195,   2.64065395],\n",
       "       [807.88413413, 101.04035195,   2.64065395],\n",
       "       [807.88413413, 101.04035195,   2.64065395],\n",
       "       [807.88413413, 101.04035195,   2.64065395],\n",
       "       [807.88413413, 101.04035195,   2.64065395],\n",
       "       [807.88413413, 101.04035195,   2.64065395],\n",
       "       [807.88413413, 101.04035195,   2.64065395],\n",
       "       [807.88413413, 101.04035195,   2.64065395],\n",
       "       [807.88413413, 101.04035195,   2.64065395],\n",
       "       [807.88413413, 101.04035195,   2.64065395],\n",
       "       [807.88413413, 101.04035195,   2.64065395],\n",
       "       [807.88413413, 101.04035195,   2.64065395],\n",
       "       [807.88413413, 101.04035195,   2.64065395],\n",
       "       [807.88413413, 101.04035195,   2.64065395],\n",
       "       [807.88413413, 101.04035195,   2.64065395],\n",
       "       [807.88413413, 101.04035195,   2.64065395],\n",
       "       [807.88413413, 101.04035195,   2.64065395],\n",
       "       [807.88413413, 101.04035195,   2.64065395],\n",
       "       [807.88413413, 101.04035195,   2.64065395],\n",
       "       [807.88413413, 101.04035195,   2.64065395],\n",
       "       [807.88413413, 101.04035195,   2.64065395],\n",
       "       [807.88413413, 101.04035195,   2.64065395],\n",
       "       [807.88413413, 101.04035195,   2.64065395],\n",
       "       [807.88413413, 101.04035195,   2.64065395],\n",
       "       [807.88413413, 101.04035195,   2.64065395],\n",
       "       [807.88413413, 101.04035195,   2.64065395],\n",
       "       [807.88413413, 101.04035195,   2.64065395],\n",
       "       [807.88413413, 101.04035195,   2.64065395],\n",
       "       [807.88413413, 101.04035195,   2.64065395],\n",
       "       [807.88413413, 101.04035195,   2.64065395],\n",
       "       [807.88413413, 101.04035195,   2.64065395],\n",
       "       [807.88413413, 101.04035195,   2.64065395],\n",
       "       [807.88413413, 101.04035195,   2.64065395],\n",
       "       [807.88413413, 101.04035195,   2.64065395],\n",
       "       [807.88413413, 101.04035195,   2.64065395],\n",
       "       [807.88413413, 101.04035195,   2.64065395],\n",
       "       [807.88413413, 101.04035195,   2.64065395],\n",
       "       [807.88413413, 101.04035195,   2.64065395],\n",
       "       [807.88413413, 101.04035195,   2.64065395],\n",
       "       [807.88413413, 101.04035195,   2.64065395],\n",
       "       [807.88413413, 101.04035195,   2.64065395],\n",
       "       [807.88413413, 101.04035195,   2.64065395],\n",
       "       [807.88413413, 101.04035195,   2.64065395],\n",
       "       [807.88413413, 101.04035195,   2.64065395],\n",
       "       [807.88413413, 101.04035195,   2.64065395],\n",
       "       [807.88413413, 101.04035195,   2.64065395],\n",
       "       [807.88413413, 101.04035195,   2.64065395],\n",
       "       [807.88413413, 101.04035195,   2.64065395],\n",
       "       [807.88413413, 101.04035195,   2.64065395],\n",
       "       [807.88413413, 101.04035195,   2.64065395],\n",
       "       [807.88413413, 101.04035195,   2.64065395]])"
      ]
     },
     "execution_count": 38,
     "metadata": {},
     "output_type": "execute_result"
    }
   ],
   "source": [
    "y_pred"
   ]
  },
  {
   "cell_type": "code",
   "execution_count": null,
   "id": "aad618ac-5e27-468d-83ef-d322f0c55557",
   "metadata": {},
   "outputs": [],
   "source": []
  },
  {
   "cell_type": "code",
   "execution_count": null,
   "id": "090694c3-4186-482e-80c2-77c5f01225e7",
   "metadata": {},
   "outputs": [],
   "source": []
  }
 ],
 "metadata": {
  "kernelspec": {
   "display_name": "Python 3",
   "language": "python",
   "name": "python3"
  },
  "language_info": {
   "codemirror_mode": {
    "name": "ipython",
    "version": 3
   },
   "file_extension": ".py",
   "mimetype": "text/x-python",
   "name": "python",
   "nbconvert_exporter": "python",
   "pygments_lexer": "ipython3",
   "version": "3.9.17"
  }
 },
 "nbformat": 4,
 "nbformat_minor": 5
}
