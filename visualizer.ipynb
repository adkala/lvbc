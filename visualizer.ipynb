{
 "cells": [
  {
   "cell_type": "markdown",
   "id": "486b0b60-8305-4379-b3f6-773e53b787d9",
   "metadata": {},
   "source": [
    "# Visualized data"
   ]
  },
  {
   "cell_type": "code",
   "execution_count": 15,
   "id": "28225cf9-7a89-4b3a-8f4d-4fc4bbb56231",
   "metadata": {},
   "outputs": [
    {
     "name": "stdout",
     "output_type": "stream",
     "text": [
      "The autoreload extension is already loaded. To reload it, use:\n",
      "  %reload_ext autoreload\n",
      "using cpu\n"
     ]
    }
   ],
   "source": [
    "%load_ext autoreload\n",
    "%autoreload 2\n",
    "\n",
    "import utils\n",
    "import run\n",
    "import evaluate\n",
    "\n",
    "import numpy as np\n",
    "import torch\n",
    "import matplotlib.pyplot as plt\n",
    "\n",
    "#config = run.make_config('configs/horizonlstm_position_gaussian.yaml')\n",
    "config = run.make_config('configs/horizonlstm_position.yaml')"
   ]
  },
  {
   "cell_type": "code",
   "execution_count": 16,
   "id": "897b1f73-8b64-46a1-94aa-5bcef1effed5",
   "metadata": {},
   "outputs": [],
   "source": [
    "#torch_dict = torch.load('models/horizonlstm_position_gaussian_lr0.001-l4-h200-gaussian_04-12-2023_17-56-53_e200.p', map_location=torch.device('cpu'))\n",
    "#torch_dict = torch.load('models/horizonlstm_position_gaussian_lr0.001-l4-h200-gaussian_05-12-2023_14-30-02_e440.p', map_location=torch.device('cpu'))\n",
    "torch_dict = torch.load('models/horizonlstm_position_lr0.001-l4-h200-mse_29-11-2023_21-02-50_e3600.p', map_location=torch.device('cpu'))"
   ]
  },
  {
   "cell_type": "code",
   "execution_count": 17,
   "id": "ec434c5b-d2bd-4a5f-8f79-f123485b5954",
   "metadata": {},
   "outputs": [
    {
     "data": {
      "text/plain": [
       "<All keys matched successfully>"
      ]
     },
     "execution_count": 17,
     "metadata": {},
     "output_type": "execute_result"
    }
   ],
   "source": [
    "import models\n",
    "#config['model'] = models.HorizonLSTMWithVariance()\n",
    "config['model'].load_state_dict(torch_dict['model_state_dict'], strict=False)"
   ]
  },
  {
   "cell_type": "code",
   "execution_count": 18,
   "id": "72a929a3-b419-463d-b191-459d4f27235d",
   "metadata": {},
   "outputs": [],
   "source": [
    "def plot_trajectories(y_pred, y, x=None, delta_p=True, ax=None,):\n",
    "    if delta_p:\n",
    "        y_pred = np.vstack([[0, 0, 0], np.cumsum(y_pred, axis=0)])\n",
    "        y = np.vstack([[0, 0, 0], np.cumsum(y, axis=0)])\n",
    "    if ax is None:\n",
    "        fig, ax = plt.subplots()\n",
    "\n",
    "    ax.plot(y_pred[:, 0], y_pred[:, 1], \"--\", label=\"pred\")\n",
    "    ax.plot(y[:, 0], y[:, 1], \"--\", label=\"gt\")\n",
    "    if x is not None:\n",
    "        ax.plot(x[:, 0], x[:, 1], \"-o\", label=\"x\")\n",
    "    \n",
    "    ax.set_aspect('equal', adjustable='datalim')\n",
    "    \n",
    "    ax.legend()\n",
    "\n",
    "def plot_compensated_error_vectors(y_pred, y, points=10, ax=None):\n",
    "    if points is None:\n",
    "        points = y_pred.shape[0]\n",
    "    ce = utils.compensate_error(y_pred, y)\n",
    "    y_pred = np.vstack([[0, 0, 0], np.cumsum(y_pred, axis=0)])\n",
    "    y = np.vstack([[0, 0, 0], np.cumsum(y, axis=0)])\n",
    "    if ax is None:\n",
    "        fig, ax = plt.subplots()\n",
    "    ax.plot(y_pred[:points, 0], y_pred[:points, 1], '-o', label='y_pred')  # last point has no comparison since it is from the last predicted output, so no other gt-point to go to\n",
    "    ax.plot(y[:points + 1, 0], y[:points + 1, 1], '-o', label='y')\n",
    "    for i in range(points):\n",
    "        ep = y_pred[i] + ce[i]\n",
    "        plt.plot([y_pred[i, 0], ep[0]], [y_pred[i, 1], ep[1]])\n",
    "    ax.legend()\n",
    "\n",
    "def get_car_frame_error(y_pred, y, r):\n",
    "    rr = np.array([[np.cos(r), -np.sin(r)], [np.sin(r), np.cos(r)]]).transpose(2, 0, 1)\n",
    "    sr = (y - y_pred)[:, :2]\n",
    "    return np.einsum('BNi, Bi->BN', rr, sr)"
   ]
  },
  {
   "cell_type": "code",
   "execution_count": 19,
   "id": "23bb0715-3f77-4187-87ca-0fc4eaf41983",
   "metadata": {},
   "outputs": [
    {
     "name": "stdout",
     "output_type": "stream",
     "text": [
      "17 2073\n",
      "world frame error (max, mean): [1.71213753 0.57964887 0.03109088] [0.31538694 0.22350307 0.00631295]\n",
      "car frame error (max, mean): [1.21792839 1.33568641] [0.23572835 0.30528567]\n"
     ]
    },
    {
     "data": {
      "image/png": "[encoded data removed]",
      "text/plain": [
       "<Figure size 432x288 with 1 Axes>"
      ]
     },
     "metadata": {
      "needs_background": "light"
     },
     "output_type": "display_data"
    }
   ],
   "source": [
    "i = np.random.randint(len(config['train_datasets']))\n",
    "j = np.random.randint(len(config['train_datasets'][i]))\n",
    "\n",
    "x, y = config['train_datasets'][i][j]\n",
    "\n",
    "y *= config['train_datasets'][i].p_r\n",
    "y_pred = config['model'].generate(torch.tensor(x[:config['window']]).float(), torch.tensor(x[config['window']:, 3:]).float())\n",
    "y_pred = y_pred.detach().numpy() * config['train_datasets'][i].p_r\n",
    "\n",
    "x = x[:, :3] * config['train_datasets'][i].p_r\n",
    "y = y[-config['horizon']:]\n",
    "\n",
    "print(i, j)\n",
    "plot_trajectories(y_pred, y, x=x[:config['window']], delta_p=config['delta_p'])\n",
    "#plot_trajectories(y , y, delta_p=config['delta_p'])\n",
    "\n",
    "print('world frame error (max, mean):', np.max(np.abs(y_pred - y), axis=0), np.mean(np.abs(y_pred - y), axis=0))\n",
    "cfe = get_car_frame_error(y_pred, y, x[-config['horizon']:, -1])\n",
    "print('car frame error (max, mean):', np.max(np.abs(cfe), axis=0), np.mean(np.abs(cfe), axis=0))"
   ]
  },
  {
   "cell_type": "code",
   "execution_count": 269,
   "id": "c6f3d589-e31b-4511-8bbe-ad5c4c481985",
   "metadata": {},
   "outputs": [
    {
     "name": "stdout",
     "output_type": "stream",
     "text": [
      "rb15_08_15-16_28_set_1\n",
      "torch.Size([100, 6])\n",
      "1 4935\n",
      "[ 0.05008115 -0.02675563  0.04923625]\n"
     ]
    },
    {
     "data": {
      "image/png": "[encoded data removed]",
      "text/plain": [
       "<Figure size 432x288 with 1 Axes>"
      ]
     },
     "metadata": {
      "needs_background": "light"
     },
     "output_type": "display_data"
    }
   ],
   "source": [
    "i = np.random.randint(len(config['train_datasets']))\n",
    "i = 1\n",
    "j = np.random.randint(len(config['train_datasets'][i]))\n",
    "j = 4935\n",
    "\n",
    "print(config['train_datasets'][i].name)\n",
    "\n",
    "x, y = config['train_datasets'][i][j]\n",
    "\n",
    "y *= config['train_datasets'][i].p_r\n",
    "y_pred = config['model'](torch.tensor(x).float())\n",
    "\n",
    "var = y_pred.detach().numpy()[:, 3:]# * config['train_datasets'][i].p_r\n",
    "y_pred = y_pred.detach().numpy()[:, :3] * config['train_datasets'][i].p_r\n",
    "\n",
    "x = x[:, :3] * config['train_datasets'][i].p_r\n",
    "y = y[-config['horizon']:]\n",
    "\n",
    "print(i, j)\n",
    "plot_trajectories(y, y_pred, x=None, delta_p=config['delta_p'])\n",
    "#plot_trajectories(y , y, delta_p=config['delta_p'])\n",
    "\n",
    "print(var.mean(axis=0))\n",
    "\n",
    "#print('world frame error (max, mean):', np.max(np.abs(y_pred - y), axis=0), np.mean(np.abs(y_pred - y), axis=0))\n",
    "#cfe = get_car_frame_error(y_pred, y, x[-config['horizon']:, -1])\n",
    "#print('car frame error (max, mean):', np.max(np.abs(cfe), axis=0), np.mean(np.abs(cfe), axis=0))"
   ]
  },
  {
   "cell_type": "code",
   "execution_count": 200,
   "id": "094a4bc9-deba-4b3b-9d07-864be6a4128a",
   "metadata": {},
   "outputs": [
    {
     "name": "stdout",
     "output_type": "stream",
     "text": [
      "[1516.40807653  527.96234116   10.61343846]\n"
     ]
    }
   ],
   "source": [
    "print(config['train_datasets'][i].p_r)"
   ]
  },
  {
   "cell_type": "code",
   "execution_count": 38,
   "id": "77e4f95a-5a0b-410f-8452-a9cc4516b6ef",
   "metadata": {},
   "outputs": [
    {
     "data": {
      "text/plain": [
       "array([[807.88413413, 101.04035195,   2.64065395],\n",
       "       [807.88413413, 101.04035195,   2.64065395],\n",
       "       [807.88413413, 101.04035195,   2.64065395],\n",
       "       [807.88413413, 101.04035195,   2.64065395],\n",
       "       [807.88413413, 101.04035195,   2.64065395],\n",
       "       [807.88413413, 101.04035195,   2.64065395],\n",
       "       [807.88413413, 101.04035195,   2.64065395],\n",
       "       [807.88413413, 101.04035195,   2.64065395],\n",
       "       [807.88413413, 101.04035195,   2.64065395],\n",
       "       [807.88413413, 101.04035195,   2.64065395],\n",
       "       [807.88413413, 101.04035195,   2.64065395],\n",
       "       [807.88413413, 101.04035195,   2.64065395],\n",
       "       [807.88413413, 101.04035195,   2.64065395],\n",
       "       [807.88413413, 101.04035195,   2.64065395],\n",
       "       [807.88413413, 101.04035195,   2.64065395],\n",
       "       [807.88413413, 101.04035195,   2.64065395],\n",
       "       [807.88413413, 101.04035195,   2.64065395],\n",
       "       [807.88413413, 101.04035195,   2.64065395],\n",
       "       [807.88413413, 101.04035195,   2.64065395],\n",
       "       [807.88413413, 101.04035195,   2.64065395],\n",
       "       [807.88413413, 101.04035195,   2.64065395],\n",
       "       [807.88413413, 101.04035195,   2.64065395],\n",
       "       [807.88413413, 101.04035195,   2.64065395],\n",
       "       [807.88413413, 101.04035195,   2.64065395],\n",
       "       [807.88413413, 101.04035195,   2.64065395],\n",
       "       [807.88413413, 101.04035195,   2.64065395],\n",
       "       [807.88413413, 101.04035195,   2.64065395],\n",
       "       [807.88413413, 101.04035195,   2.64065395],\n",
       "       [807.88413413, 101.04035195,   2.64065395],\n",
       "       [807.88413413, 101.04035195,   2.64065395],\n",
       "       [807.88413413, 101.04035195,   2.64065395],\n",
       "       [807.88413413, 101.04035195,   2.64065395],\n",
       "       [807.88413413, 101.04035195,   2.64065395],\n",
       "       [807.88413413, 101.04035195,   2.64065395],\n",
       "       [807.88413413, 101.04035195,   2.64065395],\n",
       "       [807.88413413, 101.04035195,   2.64065395],\n",
       "       [807.88413413, 101.04035195,   2.64065395],\n",
       "       [807.88413413, 101.04035195,   2.64065395],\n",
       "       [807.88413413, 101.04035195,   2.64065395],\n",
       "       [807.88413413, 101.04035195,   2.64065395],\n",
       "       [807.88413413, 101.04035195,   2.64065395],\n",
       "       [807.88413413, 101.04035195,   2.64065395],\n",
       "       [807.88413413, 101.04035195,   2.64065395],\n",
       "       [807.88413413, 101.04035195,   2.64065395],\n",
       "       [807.88413413, 101.04035195,   2.64065395],\n",
       "       [807.88413413, 101.04035195,   2.64065395],\n",
       "       [807.88413413, 101.04035195,   2.64065395],\n",
       "       [807.88413413, 101.04035195,   2.64065395],\n",
       "       [807.88413413, 101.04035195,   2.64065395],\n",
       "       [807.88413413, 101.04035195,   2.64065395],\n",
       "       [807.88413413, 101.04035195,   2.64065395],\n",
       "       [807.88413413, 101.04035195,   2.64065395],\n",
       "       [807.88413413, 101.04035195,   2.64065395],\n",
       "       [807.88413413, 101.04035195,   2.64065395],\n",
       "       [807.88413413, 101.04035195,   2.64065395],\n",
       "       [807.88413413, 101.04035195,   2.64065395],\n",
       "       [807.88413413, 101.04035195,   2.64065395],\n",
       "       [807.88413413, 101.04035195,   2.64065395],\n",
       "       [807.88413413, 101.04035195,   2.64065395],\n",
       "       [807.88413413, 101.04035195,   2.64065395],\n",
       "       [807.88413413, 101.04035195,   2.64065395],\n",
       "       [807.88413413, 101.04035195,   2.64065395],\n",
       "       [807.88413413, 101.04035195,   2.64065395],\n",
       "       [807.88413413, 101.04035195,   2.64065395],\n",
       "       [807.88413413, 101.04035195,   2.64065395],\n",
       "       [807.88413413, 101.04035195,   2.64065395],\n",
       "       [807.88413413, 101.04035195,   2.64065395],\n",
       "       [807.88413413, 101.04035195,   2.64065395],\n",
       "       [807.88413413, 101.04035195,   2.64065395],\n",
       "       [807.88413413, 101.04035195,   2.64065395],\n",
       "       [807.88413413, 101.04035195,   2.64065395],\n",
       "       [807.88413413, 101.04035195,   2.64065395],\n",
       "       [807.88413413, 101.04035195,   2.64065395],\n",
       "       [807.88413413, 101.04035195,   2.64065395],\n",
       "       [807.88413413, 101.04035195,   2.64065395],\n",
       "       [807.88413413, 101.04035195,   2.64065395],\n",
       "       [807.88413413, 101.04035195,   2.64065395],\n",
       "       [807.88413413, 101.04035195,   2.64065395],\n",
       "       [807.88413413, 101.04035195,   2.64065395],\n",
       "       [807.88413413, 101.04035195,   2.64065395],\n",
       "       [807.88413413, 101.04035195,   2.64065395],\n",
       "       [807.88413413, 101.04035195,   2.64065395],\n",
       "       [807.88413413, 101.04035195,   2.64065395],\n",
       "       [807.88413413, 101.04035195,   2.64065395],\n",
       "       [807.88413413, 101.04035195,   2.64065395],\n",
       "       [807.88413413, 101.04035195,   2.64065395],\n",
       "       [807.88413413, 101.04035195,   2.64065395],\n",
       "       [807.88413413, 101.04035195,   2.64065395],\n",
       "       [807.88413413, 101.04035195,   2.64065395],\n",
       "       [807.88413413, 101.04035195,   2.64065395],\n",
       "       [807.88413413, 101.04035195,   2.64065395],\n",
       "       [807.88413413, 101.04035195,   2.64065395],\n",
       "       [807.88413413, 101.04035195,   2.64065395],\n",
       "       [807.88413413, 101.04035195,   2.64065395],\n",
       "       [807.88413413, 101.04035195,   2.64065395],\n",
       "       [807.88413413, 101.04035195,   2.64065395],\n",
       "       [807.88413413, 101.04035195,   2.64065395],\n",
       "       [807.88413413, 101.04035195,   2.64065395],\n",
       "       [807.88413413, 101.04035195,   2.64065395],\n",
       "       [807.88413413, 101.04035195,   2.64065395],\n",
       "       [807.88413413, 101.04035195,   2.64065395],\n",
       "       [807.88413413, 101.04035195,   2.64065395],\n",
       "       [807.88413413, 101.04035195,   2.64065395],\n",
       "       [807.88413413, 101.04035195,   2.64065395],\n",
       "       [807.88413413, 101.04035195,   2.64065395],\n",
       "       [807.88413413, 101.04035195,   2.64065395],\n",
       "       [807.88413413, 101.04035195,   2.64065395],\n",
       "       [807.88413413, 101.04035195,   2.64065395],\n",
       "       [807.88413413, 101.04035195,   2.64065395],\n",
       "       [807.88413413, 101.04035195,   2.64065395],\n",
       "       [807.88413413, 101.04035195,   2.64065395],\n",
       "       [807.88413413, 101.04035195,   2.64065395],\n",
       "       [807.88413413, 101.04035195,   2.64065395],\n",
       "       [807.88413413, 101.04035195,   2.64065395],\n",
       "       [807.88413413, 101.04035195,   2.64065395],\n",
       "       [807.88413413, 101.04035195,   2.64065395],\n",
       "       [807.88413413, 101.04035195,   2.64065395],\n",
       "       [807.88413413, 101.04035195,   2.64065395],\n",
       "       [807.88413413, 101.04035195,   2.64065395],\n",
       "       [807.88413413, 101.04035195,   2.64065395],\n",
       "       [807.88413413, 101.04035195,   2.64065395],\n",
       "       [807.88413413, 101.04035195,   2.64065395],\n",
       "       [807.88413413, 101.04035195,   2.64065395],\n",
       "       [807.88413413, 101.04035195,   2.64065395],\n",
       "       [807.88413413, 101.04035195,   2.64065395],\n",
       "       [807.88413413, 101.04035195,   2.64065395],\n",
       "       [807.88413413, 101.04035195,   2.64065395],\n",
       "       [807.88413413, 101.04035195,   2.64065395],\n",
       "       [807.88413413, 101.04035195,   2.64065395],\n",
       "       [807.88413413, 101.04035195,   2.64065395],\n",
       "       [807.88413413, 101.04035195,   2.64065395],\n",
       "       [807.88413413, 101.04035195,   2.64065395],\n",
       "       [807.88413413, 101.04035195,   2.64065395],\n",
       "       [807.88413413, 101.04035195,   2.64065395],\n",
       "       [807.88413413, 101.04035195,   2.64065395],\n",
       "       [807.88413413, 101.04035195,   2.64065395],\n",
       "       [807.88413413, 101.04035195,   2.64065395],\n",
       "       [807.88413413, 101.04035195,   2.64065395],\n",
       "       [807.88413413, 101.04035195,   2.64065395],\n",
       "       [807.88413413, 101.04035195,   2.64065395],\n",
       "       [807.88413413, 101.04035195,   2.64065395],\n",
       "       [807.88413413, 101.04035195,   2.64065395],\n",
       "       [807.88413413, 101.04035195,   2.64065395],\n",
       "       [807.88413413, 101.04035195,   2.64065395],\n",
       "       [807.88413413, 101.04035195,   2.64065395],\n",
       "       [807.88413413, 101.04035195,   2.64065395],\n",
       "       [807.88413413, 101.04035195,   2.64065395],\n",
       "       [807.88413413, 101.04035195,   2.64065395],\n",
       "       [807.88413413, 101.04035195,   2.64065395]])"
      ]
     },
     "execution_count": 38,
     "metadata": {},
     "output_type": "execute_result"
    }
   ],
   "source": [
    "y_pred"
   ]
  },
  {
   "cell_type": "code",
   "execution_count": null,
   "id": "aad618ac-5e27-468d-83ef-d322f0c55557",
   "metadata": {},
   "outputs": [],
   "source": []
  },
  {
   "cell_type": "code",
   "execution_count": null,
   "id": "090694c3-4186-482e-80c2-77c5f01225e7",
   "metadata": {},
   "outputs": [],
   "source": []
  }
 ],
 "metadata": {
  "kernelspec": {
   "display_name": "Python [conda env:cs285] *",
   "language": "python",
   "name": "conda-env-cs285-py"
  },
  "language_info": {
   "codemirror_mode": {
    "name": "ipython",
    "version": 3
   },
   "file_extension": ".py",
   "mimetype": "text/x-python",
   "name": "python",
   "nbconvert_exporter": "python",
   "pygments_lexer": "ipython3",
   "version": "3.9.17"
  }
 },
 "nbformat": 4,
 "nbformat_minor": 5
}
