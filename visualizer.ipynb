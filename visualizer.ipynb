{
 "cells": [
  {
   "cell_type": "markdown",
   "id": "486b0b60-8305-4379-b3f6-773e53b787d9",
   "metadata": {},
   "source": [
    "# Testing corrected y_pred"
   ]
  },
  {
   "cell_type": "code",
   "execution_count": 251,
   "id": "28225cf9-7a89-4b3a-8f4d-4fc4bbb56231",
   "metadata": {},
   "outputs": [
    {
     "name": "stdout",
     "output_type": "stream",
     "text": [
      "The autoreload extension is already loaded. To reload it, use:\n",
      "  %reload_ext autoreload\n",
      "using cpu\n"
     ]
    },
    {
     "data": {
      "text/plain": [
       "<All keys matched successfully>"
      ]
     },
     "execution_count": 251,
     "metadata": {},
     "output_type": "execute_result"
    }
   ],
   "source": [
    "%load_ext autoreload\n",
    "%autoreload 2\n",
    "\n",
    "import utils\n",
    "import run\n",
    "\n",
    "import numpy as np\n",
    "import torch\n",
    "import matplotlib.pyplot as plt\n",
    "\n",
    "# test config\n",
    "config = run.make_config('configs/horizonwithhead_default.yaml') # window 100, horizon 100\n",
    "torch_dict = torch.load('models/horizonwithheadlstm_default_17-11-2023_13-22-36_e3800.p', map_location=torch.device('cpu'))\n",
    "config['model'].load_state_dict(torch_dict['model_state_dict'])"
   ]
  },
  {
   "cell_type": "code",
   "execution_count": 328,
   "id": "2d917ce9-2dc1-46db-9fc3-4576b5e21631",
   "metadata": {},
   "outputs": [
    {
     "ename": "AttributeError",
     "evalue": "'HorizonWithHeadLSTM' object has no attribute 'head'",
     "output_type": "error",
     "traceback": [
      "\u001b[0;31m---------------------------------------------------------------------------\u001b[0m",
      "\u001b[0;31mAttributeError\u001b[0m                            Traceback (most recent call last)",
      "Cell \u001b[0;32mIn[328], line 56\u001b[0m\n\u001b[1;32m     52\u001b[0m     ax\u001b[38;5;241m.\u001b[39mset_ylim(ity, aty)\n\u001b[1;32m     54\u001b[0m     \u001b[38;5;28;01mreturn\u001b[39;00m y, y_pred, y_traj, y_pred_traj, y_corrected\n\u001b[0;32m---> 56\u001b[0m y, y_pred, y_traj, y_pred_traj, y_corrected \u001b[38;5;241m=\u001b[39m \u001b[43mvisualize_differences\u001b[49m\u001b[43m(\u001b[49m\u001b[43mconfig\u001b[49m\u001b[43m)\u001b[49m\u001b[38;5;66;03m#, 0, 17030) #, 0, 5707)\u001b[39;00m\n\u001b[1;32m     57\u001b[0m \u001b[38;5;66;03m#y, y_pred, y_traj, y_pred_traj, y_pred_corrected\u001b[39;00m\n",
      "Cell \u001b[0;32mIn[328], line 12\u001b[0m, in \u001b[0;36mvisualize_differences\u001b[0;34m(config, i, j, ax)\u001b[0m\n\u001b[1;32m      8\u001b[0m m \u001b[38;5;241m=\u001b[39m m\u001b[38;5;241m.\u001b[39mbool()\u001b[38;5;241m.\u001b[39munsqueeze(\u001b[38;5;241m-\u001b[39m\u001b[38;5;241m1\u001b[39m)\u001b[38;5;241m.\u001b[39mexpand(\u001b[38;5;241m-\u001b[39m\u001b[38;5;241m1\u001b[39m, y\u001b[38;5;241m.\u001b[39mshape[\u001b[38;5;241m-\u001b[39m\u001b[38;5;241m1\u001b[39m])\u001b[38;5;241m.\u001b[39mdetach()\u001b[38;5;241m.\u001b[39mnumpy()\n\u001b[1;32m     10\u001b[0m model\u001b[38;5;241m.\u001b[39meval()\n\u001b[0;32m---> 12\u001b[0m y_pred, _ \u001b[38;5;241m=\u001b[39m \u001b[43mmodel\u001b[49m\u001b[43m(\u001b[49m\u001b[43mx\u001b[49m\u001b[43m)\u001b[49m\n\u001b[1;32m     13\u001b[0m y_pred \u001b[38;5;241m=\u001b[39m y_pred[:, \u001b[38;5;241m-\u001b[39m\u001b[38;5;241m2\u001b[39m:]\u001b[38;5;241m.\u001b[39mdetach()\u001b[38;5;241m.\u001b[39mnumpy()\n\u001b[1;32m     14\u001b[0m y_pred \u001b[38;5;241m*\u001b[39m\u001b[38;5;241m=\u001b[39m m\n",
      "File \u001b[0;32m~/miniconda3/envs/cs285/lib/python3.9/site-packages/torch/nn/modules/module.py:1194\u001b[0m, in \u001b[0;36mModule._call_impl\u001b[0;34m(self, *input, **kwargs)\u001b[0m\n\u001b[1;32m   1190\u001b[0m \u001b[38;5;66;03m# If we don't have any hooks, we want to skip the rest of the logic in\u001b[39;00m\n\u001b[1;32m   1191\u001b[0m \u001b[38;5;66;03m# this function, and just call forward.\u001b[39;00m\n\u001b[1;32m   1192\u001b[0m \u001b[38;5;28;01mif\u001b[39;00m \u001b[38;5;129;01mnot\u001b[39;00m (\u001b[38;5;28mself\u001b[39m\u001b[38;5;241m.\u001b[39m_backward_hooks \u001b[38;5;129;01mor\u001b[39;00m \u001b[38;5;28mself\u001b[39m\u001b[38;5;241m.\u001b[39m_forward_hooks \u001b[38;5;129;01mor\u001b[39;00m \u001b[38;5;28mself\u001b[39m\u001b[38;5;241m.\u001b[39m_forward_pre_hooks \u001b[38;5;129;01mor\u001b[39;00m _global_backward_hooks\n\u001b[1;32m   1193\u001b[0m         \u001b[38;5;129;01mor\u001b[39;00m _global_forward_hooks \u001b[38;5;129;01mor\u001b[39;00m _global_forward_pre_hooks):\n\u001b[0;32m-> 1194\u001b[0m     \u001b[38;5;28;01mreturn\u001b[39;00m \u001b[43mforward_call\u001b[49m\u001b[43m(\u001b[49m\u001b[38;5;241;43m*\u001b[39;49m\u001b[38;5;28;43minput\u001b[39;49m\u001b[43m,\u001b[49m\u001b[43m \u001b[49m\u001b[38;5;241;43m*\u001b[39;49m\u001b[38;5;241;43m*\u001b[39;49m\u001b[43mkwargs\u001b[49m\u001b[43m)\u001b[49m\n\u001b[1;32m   1195\u001b[0m \u001b[38;5;66;03m# Do not call functions when jit is used\u001b[39;00m\n\u001b[1;32m   1196\u001b[0m full_backward_hooks, non_full_backward_hooks \u001b[38;5;241m=\u001b[39m [], []\n",
      "File \u001b[0;32m~/dev/lvbc/models.py:31\u001b[0m, in \u001b[0;36mHorizonWithHeadLSTM.forward\u001b[0;34m(self, x, ch)\u001b[0m\n\u001b[1;32m     29\u001b[0m \u001b[38;5;28;01mdef\u001b[39;00m \u001b[38;5;21mforward\u001b[39m(\u001b[38;5;28mself\u001b[39m, x, ch\u001b[38;5;241m=\u001b[39m\u001b[38;5;28;01mNone\u001b[39;00m):\n\u001b[1;32m     30\u001b[0m     x, ch \u001b[38;5;241m=\u001b[39m \u001b[38;5;28mself\u001b[39m\u001b[38;5;241m.\u001b[39mlstm1(x, ch)\n\u001b[0;32m---> 31\u001b[0m     \u001b[38;5;28;01mreturn\u001b[39;00m \u001b[38;5;28;43mself\u001b[39;49m\u001b[38;5;241;43m.\u001b[39;49m\u001b[43mhead\u001b[49m(x)\n",
      "File \u001b[0;32m~/miniconda3/envs/cs285/lib/python3.9/site-packages/torch/nn/modules/module.py:1269\u001b[0m, in \u001b[0;36mModule.__getattr__\u001b[0;34m(self, name)\u001b[0m\n\u001b[1;32m   1267\u001b[0m     \u001b[38;5;28;01mif\u001b[39;00m name \u001b[38;5;129;01min\u001b[39;00m modules:\n\u001b[1;32m   1268\u001b[0m         \u001b[38;5;28;01mreturn\u001b[39;00m modules[name]\n\u001b[0;32m-> 1269\u001b[0m \u001b[38;5;28;01mraise\u001b[39;00m \u001b[38;5;167;01mAttributeError\u001b[39;00m(\u001b[38;5;124m\"\u001b[39m\u001b[38;5;124m'\u001b[39m\u001b[38;5;132;01m{}\u001b[39;00m\u001b[38;5;124m'\u001b[39m\u001b[38;5;124m object has no attribute \u001b[39m\u001b[38;5;124m'\u001b[39m\u001b[38;5;132;01m{}\u001b[39;00m\u001b[38;5;124m'\u001b[39m\u001b[38;5;124m\"\u001b[39m\u001b[38;5;241m.\u001b[39mformat(\n\u001b[1;32m   1270\u001b[0m     \u001b[38;5;28mtype\u001b[39m(\u001b[38;5;28mself\u001b[39m)\u001b[38;5;241m.\u001b[39m\u001b[38;5;18m__name__\u001b[39m, name))\n",
      "\u001b[0;31mAttributeError\u001b[0m: 'HorizonWithHeadLSTM' object has no attribute 'head'"
     ]
    }
   ],
   "source": [
    "def visualize_differences(config, i=None, j=None, ax=None):\n",
    "    model = config['model']\n",
    "    if i is None:\n",
    "        i = np.random.randint(len(config['train_datasets']))\n",
    "    if j is None:\n",
    "        j = np.random.randint(len(config['train_datasets'][i]))\n",
    "    x, y, m = config['train_datasets'][i][j]\n",
    "    m = m.bool().unsqueeze(-1).expand(-1, y.shape[-1]).detach().numpy()\n",
    "\n",
    "    model.eval()\n",
    "    \n",
    "    y_pred, _ = model(x)\n",
    "    y_pred = y_pred[:, -2:].detach().numpy()\n",
    "    y_pred *= m\n",
    "    y *= m\n",
    "    y = y.detach().numpy()\n",
    "    \n",
    "    y, y_pred, m = y[-config['horizon']:], y_pred[-config['horizon']:], m[-config['horizon']:]\n",
    "    \n",
    "    y_traj = y.cumsum(axis=0)\n",
    "    y_pred_traj = y_pred.cumsum(axis=0)\n",
    "\n",
    "    y_corrected = utils.get_corrected_y_for_delta_p(torch.from_numpy(y), y_pred, m)\n",
    "\n",
    "    y_traj_x = [0, *y_traj[:, 0]]\n",
    "    y_traj_y = [0, *y_traj[:, 1]]\n",
    "\n",
    "    y_pred_traj_x = [0, *y_pred_traj[:, 0]]\n",
    "    y_pred_traj_y = [0, *y_pred_traj[:, 1]]\n",
    "\n",
    "    if ax is None:\n",
    "        fig, ax = plt.subplots()\n",
    "    ax.plot(y_traj_x, y_traj_y, \"-o\", label='true')\n",
    "    ax.plot(y_pred_traj_x, y_pred_traj_y, \"-o\", label='predicted')\n",
    "    for k in range(y_corrected.shape[0]):\n",
    "        ax.plot([y_pred_traj_x[k], y_pred_traj_x[k] + y_corrected[k, 0]], [y_pred_traj_y[k], y_pred_traj_y[k] + y_corrected[k, 1]])\n",
    "    ax.legend()\n",
    "    ax.set_title(f'i = {i}, j={j}')\n",
    "\n",
    "    # set lim\n",
    "    itx, atx = min(y_traj_x), max(y_traj_x)\n",
    "    ity, aty = min(y_traj_y), max(y_traj_y)\n",
    "    if abs(atx - itx) > abs(aty - ity):\n",
    "        diff = abs(atx - itx - aty + ity) // 2\n",
    "        aty += diff\n",
    "        ity -= diff\n",
    "    else:\n",
    "        diff = abs(aty - ity - atx + itx) // 2\n",
    "        atx += diff\n",
    "        itx -= diff\n",
    "    ax.set_xlim(itx, atx)\n",
    "    ax.set_ylim(ity, aty)\n",
    "    \n",
    "    return y, y_pred, y_traj, y_pred_traj, y_corrected\n",
    "\n",
    "y, y_pred, y_traj, y_pred_traj, y_corrected = visualize_differences(config)#, 0, 17030) #, 0, 5707)\n",
    "#y, y_pred, y_traj, y_pred_traj, y_pred_corrected"
   ]
  },
  {
   "cell_type": "code",
   "execution_count": null,
   "id": "55f802ca-de0a-495a-a449-3c935bcae847",
   "metadata": {},
   "outputs": [],
   "source": []
  },
  {
   "cell_type": "code",
   "execution_count": null,
   "id": "3a56d35b-bad3-46e8-b880-e4a363d98e59",
   "metadata": {},
   "outputs": [],
   "source": []
  }
 ],
 "metadata": {
  "kernelspec": {
   "display_name": "Python [conda env:cs285] *",
   "language": "python",
   "name": "conda-env-cs285-py"
  },
  "language_info": {
   "codemirror_mode": {
    "name": "ipython",
    "version": 3
   },
   "file_extension": ".py",
   "mimetype": "text/x-python",
   "name": "python",
   "nbconvert_exporter": "python",
   "pygments_lexer": "ipython3",
   "version": "3.9.17"
  }
 },
 "nbformat": 4,
 "nbformat_minor": 5
}
