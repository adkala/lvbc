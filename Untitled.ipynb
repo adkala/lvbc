{
 "cells": [
  {
   "cell_type": "code",
   "execution_count": 1,
   "id": "eae9b8b0-e914-44c9-ab39-a74de49182bd",
   "metadata": {},
   "outputs": [],
   "source": [
    "%load_ext autoreload\n",
    "%autoreload 2"
   ]
  },
  {
   "cell_type": "code",
   "execution_count": 2,
   "id": "5da24514-f74a-486c-bb5a-5f9bbf7df8db",
   "metadata": {},
   "outputs": [],
   "source": [
    "import run\n",
    "import models\n",
    "\n",
    "import torch"
   ]
  },
  {
   "cell_type": "code",
   "execution_count": 5,
   "id": "709e52fd-f1db-4aca-8c90-a80f1ee6c9c4",
   "metadata": {},
   "outputs": [],
   "source": [
    "model = models.MLPEncLSTMDec()"
   ]
  },
  {
   "cell_type": "code",
   "execution_count": 26,
   "id": "0b888642-00ac-4d71-8fbb-4bf25e00bfb5",
   "metadata": {},
   "outputs": [],
   "source": [
    "out = model(x)"
   ]
  },
  {
   "cell_type": "code",
   "execution_count": 27,
   "id": "5543d4a9-b8ae-4572-9676-a55023b73e68",
   "metadata": {},
   "outputs": [
    {
     "data": {
      "text/plain": [
       "torch.Size([100, 2])"
      ]
     },
     "execution_count": 27,
     "metadata": {},
     "output_type": "execute_result"
    }
   ],
   "source": [
    "out.shape"
   ]
  },
  {
   "cell_type": "code",
   "execution_count": 14,
   "id": "8a4a4289-903e-402d-9c0e-93d3b5968d7a",
   "metadata": {},
   "outputs": [],
   "source": [
    "import pickle\n",
    "\n",
    "with open('data/test0_filtered/rb15_08_15-16_28_set_0.p', 'rb') as f:\n",
    "    r4dbag = pickle.load(f)"
   ]
  },
  {
   "cell_type": "code",
   "execution_count": 163,
   "id": "75c15264-f9f7-41c3-8eda-41de67275967",
   "metadata": {},
   "outputs": [],
   "source": [
    "import datasets\n",
    "\n",
    "edds = datasets.EncDecDataset(r4dbag, start=1500)"
   ]
  },
  {
   "cell_type": "code",
   "execution_count": 164,
   "id": "2c994c29-8432-4212-aa7f-5d9bed7737a0",
   "metadata": {},
   "outputs": [
    {
     "data": {
      "text/plain": [
       "(array([-4.39081703e-02, -9.90344159e-02,  9.16863628e+00,  3.95367688e-04,\n",
       "        -3.51583747e-04, -3.24575787e-02]),\n",
       " array([1.9878599 , 1.96484824, 3.34531343, 0.02659059, 0.03181512,\n",
       "        0.15434574]))"
      ]
     },
     "execution_count": 164,
     "metadata": {},
     "output_type": "execute_result"
    }
   ],
   "source": [
    "edds.fill_p_holes()\n",
    "edds.create_th()\n",
    "datasets.set_global_normalization_factors([edds])\n",
    "datasets.set_global_standardization_factors([edds])"
   ]
  },
  {
   "cell_type": "code",
   "execution_count": 127,
   "id": "41da750c-9906-4c32-a9d1-4caea9d19173",
   "metadata": {},
   "outputs": [],
   "source": [
    "x, u, y = edds[1500]"
   ]
  },
  {
   "cell_type": "code",
   "execution_count": 188,
   "id": "bdd032f2-d5df-48e2-ace0-ef5bf03784ca",
   "metadata": {},
   "outputs": [
    {
     "name": "stdout",
     "output_type": "stream",
     "text": [
      "using cpu\n"
     ]
    }
   ],
   "source": [
    "import run\n",
    "\n",
    "config = run.make_config('configs/meld_default.yaml')"
   ]
  },
  {
   "cell_type": "code",
   "execution_count": null,
   "id": "f5e4b6d2-8e51-4462-bfb4-b81deecf85a4",
   "metadata": {},
   "outputs": [
    {
     "name": "stdout",
     "output_type": "stream",
     "text": [
      "running rb15_08_15-16_28_set_1\n"
     ]
    },
    {
     "name": "stderr",
     "output_type": "stream",
     "text": [
      "Loss: N/A:   0%|          | 0/50 [00:00<?, ?it/s]"
     ]
    },
    {
     "name": "stdout",
     "output_type": "stream",
     "text": [
      "torch.Size([8, 512, 256]) torch.Size([8, 512, 256])\n"
     ]
    }
   ],
   "source": [
    "import utils\n",
    "\n",
    "loss, loss_ind = utils.encdec_training_loop(config)"
   ]
  },
  {
   "cell_type": "code",
   "execution_count": 181,
   "id": "67252994-be9b-4bb1-8631-f99998dc4682",
   "metadata": {},
   "outputs": [],
   "source": [
    "x, u, y = config['train_datasets'][0][0]"
   ]
  },
  {
   "cell_type": "code",
   "execution_count": 184,
   "id": "e1aadbe4-708c-47f9-a5e1-8d487cad2f03",
   "metadata": {},
   "outputs": [
    {
     "data": {
      "text/plain": [
       "(torch.Size([512, 400]), torch.Size([512, 100, 7]), torch.Size([512, 100, 3]))"
      ]
     },
     "execution_count": 184,
     "metadata": {},
     "output_type": "execute_result"
    }
   ],
   "source": [
    "x.shape, u.shape, y.shape"
   ]
  },
  {
   "cell_type": "code",
   "execution_count": null,
   "id": "e55de439-24c4-4eef-baba-590e787d4bc6",
   "metadata": {},
   "outputs": [],
   "source": []
  }
 ],
 "metadata": {
  "kernelspec": {
   "display_name": "Python [conda env:cs285] *",
   "language": "python",
   "name": "conda-env-cs285-py"
  },
  "language_info": {
   "codemirror_mode": {
    "name": "ipython",
    "version": 3
   },
   "file_extension": ".py",
   "mimetype": "text/x-python",
   "name": "python",
   "nbconvert_exporter": "python",
   "pygments_lexer": "ipython3",
   "version": "3.9.17"
  }
 },
 "nbformat": 4,
 "nbformat_minor": 5
}
